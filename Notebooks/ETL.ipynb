{
 "cells": [
  {
   "cell_type": "markdown",
   "id": "a2a68082-da09-494c-b804-5b0d03e292e8",
   "metadata": {},
   "source": [
    "# API Extract CVD Prevent Data"
   ]
  },
  {
   "cell_type": "code",
   "execution_count": 7,
   "id": "3fc09188-1a53-4416-bb47-07d8407060ce",
   "metadata": {},
   "outputs": [],
   "source": [
    "from itertools import product\n",
    "import pandas as pd\n",
    "import requests\n",
    "import time"
   ]
  },
  {
   "cell_type": "code",
   "execution_count": 2,
   "id": "f1f69af9-c011-4f66-aef4-e5f03214be70",
   "metadata": {},
   "outputs": [],
   "source": [
    "def extract_CVDP(IndicatorID, AreaTypeID, TimePeriodID):\n",
    "    # Initialize dataframes\n",
    "    raw_data = pd.DataFrame()\n",
    "    invalid_combinations = pd.DataFrame({\n",
    "        \"timeperiod\": [None],\n",
    "        \"system_level\": [None],\n",
    "        \"indicatorID\": [None],\n",
    "        \"error_message\": [None]\n",
    "    })\n",
    "\n",
    "    print(\"This process may take several minutes...\")\n",
    "\n",
    "    # Start of loop\n",
    "    for i in TimePeriodID:\n",
    "        print(f\" - Extracting data for time period {i}\")\n",
    "        for j in AreaTypeID:\n",
    "            for k in IndicatorID:\n",
    "                try:\n",
    "                    csv_url = f\"https://api.cvdprevent.nhs.uk/indicator/{k}/rawDataCSV?timePeriodID={i}&systemLevelID={j}\"\n",
    "                    \n",
    "                    temp_data = pd.read_csv(csv_url)\n",
    "                    temp_data[\"AreaType\"] = {\n",
    "                        1: \"CTRY\",\n",
    "                        2: \"STP\",\n",
    "                        3: \"CCG\",\n",
    "                        4: \"PCN\",\n",
    "                        5: \"Practice\",\n",
    "                        6: \"RGN\",\n",
    "                        7: \"ICB\",\n",
    "                        8: \"LOC\"\n",
    "                    }.get(j, None)\n",
    "                    \n",
    "                    raw_data = pd.concat([raw_data, temp_data], ignore_index=True)\n",
    "\n",
    "                except Exception as e:\n",
    "                    error_message = str(e)\n",
    "                    invalid_combinations = pd.concat([\n",
    "                        invalid_combinations,\n",
    "                        pd.DataFrame({\n",
    "                            \"timeperiod\": [i],\n",
    "                            \"system_level\": [j],\n",
    "                            \"indicatorID\": [k],\n",
    "                            \"error_message\": [error_message]\n",
    "                        })\n",
    "                    ], ignore_index=True)\n",
    "\n",
    "    print(\"Extraction completed\")\n",
    "\n",
    "    return {\n",
    "        \"data\": raw_data,\n",
    "        \"invalid_combinations\": invalid_combinations\n",
    "    }\n",
    "\n",
    "# Usage:\n",
    "# IndicatorID = [...] # fill in the list of Indicator IDs\n",
    "# AreaTypeID = [...]  # fill in the list of Area Type IDs\n",
    "# TimePeriodID = [...]  # fill in the list of Time Period IDs\n",
    "# result = extract_CVDP(IndicatorID, AreaTypeID, TimePeriodID)\n"
   ]
  },
  {
   "cell_type": "code",
   "execution_count": 9,
   "id": "7da579a0-1729-4cce-9337-78b2a5507434",
   "metadata": {},
   "outputs": [
    {
     "name": "stdout",
     "output_type": "stream",
     "text": [
      "This process may take several minutes...\n",
      " - Extracting data for time period 10\n",
      "Extraction completed\n"
     ]
    }
   ],
   "source": [
    "# Usage:\n",
    "IndicatorID = [1] # fill in the list of Indicator IDs\n",
    "AreaTypeID = [7]  # fill in the list of Area Type IDs\n",
    "TimePeriodID = [10]  # fill in the list of Time Period IDs\n",
    "\n",
    "# Call function to extract the data \n",
    "result = extract_CVDP(IndicatorID, AreaTypeID, TimePeriodID)"
   ]
  },
  {
   "cell_type": "code",
   "execution_count": 32,
   "id": "7dbdfcc4-5239-4668-a043-6147b3bb5d3f",
   "metadata": {},
   "outputs": [],
   "source": [
    "# Access the data element from the result dictionary\n",
    "raw_data_df = result[\"data\"]"
   ]
  },
  {
   "cell_type": "markdown",
   "id": "179e2844-fc98-48cd-b4d8-3703ca9b4f52",
   "metadata": {},
   "source": [
    "# Load data into database"
   ]
  },
  {
   "cell_type": "code",
   "execution_count": 44,
   "id": "a4da7eaa-675e-4b1b-aeb5-a3710d4eaf8f",
   "metadata": {},
   "outputs": [],
   "source": [
    "from sqlalchemy import create_engine, text\n",
    "from sqlalchemy.exc import SQLAlchemyError\n",
    "\n",
    "# Connection string\n",
    "connection_string = \"mssql+pyodbc://MLCSU-BI-SQL/EAT_Reporting_BSOL?driver=SQL+Server+Native+Client+11.0&trusted_connection=yes\"\n",
    "\n",
    "# Create the database engine\n",
    "engine = create_engine(connection_string)"
   ]
  },
  {
   "cell_type": "code",
   "execution_count": 46,
   "id": "9420abde-2e00-4c21-8275-0961b8ca8eac",
   "metadata": {},
   "outputs": [
    {
     "name": "stdout",
     "output_type": "stream",
     "text": [
      "Table ##cvdprevent dropped successfully (if it existed).\n",
      "An error occurred when writing to the table: Could not reflect: requested table(s) not available in Engine(mssql+pyodbc://MLCSU-BI-SQL/EAT_Reporting_BSOL?driver=SQL+Server+Native+Client+11.0&trusted_connection=yes): (##cvdprevent)\n"
     ]
    }
   ],
   "source": [
    "# Write the DataFrame to SQL table\n",
    "table_name = '##cvdprevent' # The name of the table where you want to insert the data\n",
    "#schema_name = 'YourSchemaName' # Optional: Specify the schema (if applicable)\n",
    "\n",
    "# SQL command to drop table if it exists\n",
    "drop_table_command = f\"DROP TABLE IF EXISTS {table_name}\"\n",
    "\n",
    "try:\n",
    "    # Execute the drop table command\n",
    "    with engine.connect() as connection:\n",
    "        connection.execute(text(drop_table_command))\n",
    "        print(f\"Table {table_name} dropped successfully (if it existed).\")\n",
    "except SQLAlchemyError as e:\n",
    "    print(f\"An error occurred: {e}\")\n",
    "\n",
    "# Then attempt to write the DataFrame to the SQL table\n",
    "try:\n",
    "    raw_data_df.to_sql(name=table_name, con=engine, if_exists='replace', index=False)\n",
    "except SQLAlchemyError as e:\n",
    "    print(f\"An error occurred when writing to the table: {e}\")"
   ]
  },
  {
   "cell_type": "markdown",
   "id": "6bf42c10-b4b6-4573-905a-00d3a18999a0",
   "metadata": {},
   "source": [
    "# Get data from database"
   ]
  },
  {
   "cell_type": "code",
   "execution_count": 50,
   "id": "305a9799-dceb-4138-bf4d-dc90adf9fe35",
   "metadata": {},
   "outputs": [],
   "source": [
    "sql_query = 'SELECT TOP 100 * FROM working.dbo.CVDPrevent_BSOL_S'\n",
    "\n",
    "df = pd.read_sql_query(sql_query, engine)\n"
   ]
  },
  {
   "cell_type": "code",
   "execution_count": null,
   "id": "a1f4ef2e-eba5-4062-99e0-06ce4b7b319f",
   "metadata": {},
   "outputs": [],
   "source": [
    "# Pickle the data for later use\n",
    "pickle_file_path = 'BSOL_1255_CVD_Prevent_Data.pkl' # The name of your pickle file\n",
    "\n",
    "# Pickle the DataFrame\n",
    "df.to_pickle(pickle_file_path)"
   ]
  }
 ],
 "metadata": {
  "kernelspec": {
   "display_name": "Python 3 (ipykernel)",
   "language": "python",
   "name": "python3"
  },
  "language_info": {
   "codemirror_mode": {
    "name": "ipython",
    "version": 3
   },
   "file_extension": ".py",
   "mimetype": "text/x-python",
   "name": "python",
   "nbconvert_exporter": "python",
   "pygments_lexer": "ipython3",
   "version": "3.10.9"
  }
 },
 "nbformat": 4,
 "nbformat_minor": 5
}
